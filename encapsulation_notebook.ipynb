{
 "cells": [
  {
   "cell_type": "code",
   "execution_count": 19,
   "metadata": {
    "collapsed": true
   },
   "outputs": [],
   "source": [
    "from __future__ import print_function\n",
    "import cv2\n",
    "import numpy as np\n",
    "\n",
    "MAX_MATCHES = 500\n",
    "GOOD_MATCH_PERCENT = 0.15"
   ]
  },
  {
   "cell_type": "code",
   "execution_count": 32,
   "metadata": {
    "collapsed": true
   },
   "outputs": [],
   "source": [
    "def read_image(image_path):\n",
    "    img = cv2.imread(image_path, cv2.IMREAD_COLOR)\n",
    "    return img"
   ]
  },
  {
   "cell_type": "code",
   "execution_count": 20,
   "metadata": {
    "collapsed": true
   },
   "outputs": [],
   "source": [
    "def convert_to_grayscale(im):\n",
    "    imGray = cv2.cvtColor(im, cv2.COLOR_BGR2GRAY)\n",
    "    return imGray"
   ]
  },
  {
   "cell_type": "code",
   "execution_count": 21,
   "metadata": {
    "collapsed": true
   },
   "outputs": [],
   "source": [
    "def detectORB(MAX_MATCHES):\n",
    "    orb = cv2.ORB_create(MAX_MATCHES)\n",
    "    return orb"
   ]
  },
  {
   "cell_type": "code",
   "execution_count": 42,
   "metadata": {
    "collapsed": true
   },
   "outputs": [],
   "source": [
    "def compute_descriptors(orb, imGray):\n",
    "    keypoints, descriptors = orb.detectAndCompute(imGray, None)\n",
    "    return keypoints, descriptors"
   ]
  },
  {
   "cell_type": "code",
   "execution_count": 23,
   "metadata": {
    "collapsed": true
   },
   "outputs": [],
   "source": [
    "def match_features(descriptors1, descriptors2):\n",
    "    matcher = cv2.DescriptorMatcher_create(cv2.DESCRIPTOR_MATCHER_BRUTEFORCE_HAMMING)\n",
    "    matches = matcher.match(descriptors1, descriptors2, None)\n",
    "    return matches"
   ]
  },
  {
   "cell_type": "code",
   "execution_count": 24,
   "metadata": {
    "collapsed": true
   },
   "outputs": [],
   "source": [
    "def sort_matches_by_score(matches):\n",
    "    matches.sort(key=lambda x: x.distance, reverse=False)\n",
    "    return matches"
   ]
  },
  {
   "cell_type": "code",
   "execution_count": 25,
   "metadata": {
    "collapsed": true
   },
   "outputs": [],
   "source": [
    "def remove_bad_matches(matches,GOOD_MATCH_PERCENT):\n",
    "    numGoodMatches = int(len(matches) * GOOD_MATCH_PERCENT)\n",
    "    matches = matches[:numGoodMatches]\n",
    "    return matches"
   ]
  },
  {
   "cell_type": "code",
   "execution_count": 26,
   "metadata": {
    "collapsed": true
   },
   "outputs": [],
   "source": [
    "def draw_top_matches(im1, keypoints1, im2, keypoints2, matches):\n",
    "    imMatches = cv2.drawMatches(im1, keypoints1, im2, keypoints2, matches, None)\n",
    "    cv2.imwrite(\"matches.jpg\", imMatches)\n",
    "    print(\"done drawing top matches\")"
   ]
  },
  {
   "cell_type": "code",
   "execution_count": 71,
   "metadata": {
    "collapsed": true
   },
   "outputs": [],
   "source": [
    "def extract_good_matches_loc(matches, keypoints1, keypoints2):\n",
    "    points1 = np.zeros((len(matches), 2), dtype=np.float32)\n",
    "    points2 = np.zeros((len(matches), 2), dtype=np.float32)\n",
    "\n",
    "    for i, match in enumerate(matches):\n",
    "        points1[i, :] = keypoints1[match.queryIdx].pt\n",
    "        points2[i, :] = keypoints2[match.trainIdx].pt\n",
    "    \n",
    "    return points1, points2"
   ]
  },
  {
   "cell_type": "code",
   "execution_count": 62,
   "metadata": {
    "collapsed": true
   },
   "outputs": [],
   "source": [
    "def find_homography(points1, points2):\n",
    "    h, mask = cv2.findHomography(points1, points2, cv2.RANSAC)\n",
    "    return h, mask"
   ]
  },
  {
   "cell_type": "code",
   "execution_count": 29,
   "metadata": {
    "collapsed": true
   },
   "outputs": [],
   "source": [
    "def use_homography(im1, im2):\n",
    "    height, width, channels = im2.shape\n",
    "    im1Reg = cv2.warpPerspective(im1, h, (width, height))\n",
    "    return im1Reg"
   ]
  },
  {
   "cell_type": "code",
   "execution_count": 67,
   "metadata": {
    "collapsed": true
   },
   "outputs": [],
   "source": [
    "def save_aligned_img(img, outFilepath_name):\n",
    "    print(\"Saving aligned image : \", outFilepath_name);\n",
    "    cv2.imwrite(outFilepath_name, img)"
   ]
  },
  {
   "cell_type": "code",
   "execution_count": 33,
   "metadata": {},
   "outputs": [
    {
     "name": "stdout",
     "output_type": "stream",
     "text": [
      "Reading reference image :  C:/Users/incha/PycharmProjects/ImageAlignment/form.jpg\n",
      "Reading image to align :  C:/Users/incha/PycharmProjects/ImageAlignment/scanned-form.jpg\n"
     ]
    }
   ],
   "source": [
    " # Read reference image\n",
    "refFilename = \"C:/Users/incha/PycharmProjects/ImageAlignment/form.jpg\"\n",
    "print(\"Reading reference image : \", refFilename)\n",
    "imReference = read_image(refFilename)\n",
    "\n",
    "# Read image to be aligned\n",
    "imFilename = \"C:/Users/incha/PycharmProjects/ImageAlignment/scanned-form.jpg\"\n",
    "print(\"Reading image to align : \", imFilename);\n",
    "im = read_image(imFilename)\n",
    "\n",
    "    "
   ]
  },
  {
   "cell_type": "code",
   "execution_count": 36,
   "metadata": {},
   "outputs": [
    {
     "name": "stdout",
     "output_type": "stream",
     "text": [
      "<class 'numpy.ndarray'>\n"
     ]
    }
   ],
   "source": [
    "print(type(im))"
   ]
  },
  {
   "cell_type": "code",
   "execution_count": 49,
   "metadata": {},
   "outputs": [
    {
     "name": "stdout",
     "output_type": "stream",
     "text": [
      "<class 'numpy.ndarray'>\n"
     ]
    }
   ],
   "source": [
    "im1Gray = convert_to_grayscale(im)\n",
    "print(type(im1Gray))"
   ]
  },
  {
   "cell_type": "code",
   "execution_count": 38,
   "metadata": {
    "collapsed": true
   },
   "outputs": [],
   "source": [
    "im2Gray = convert_to_grayscale(imReference)"
   ]
  },
  {
   "cell_type": "code",
   "execution_count": 41,
   "metadata": {},
   "outputs": [
    {
     "name": "stdout",
     "output_type": "stream",
     "text": [
      "<class 'cv2.ORB'>\n"
     ]
    }
   ],
   "source": [
    "orb = detectORB(MAX_MATCHES)\n",
    "print(type(orb))"
   ]
  },
  {
   "cell_type": "code",
   "execution_count": 48,
   "metadata": {},
   "outputs": [
    {
     "name": "stdout",
     "output_type": "stream",
     "text": [
      "<class 'list'>\n"
     ]
    }
   ],
   "source": [
    "keypoints1, descriptors1 = compute_descriptors(orb, im1Gray)\n",
    "print(type(keypoints1))"
   ]
  },
  {
   "cell_type": "code",
   "execution_count": 50,
   "metadata": {},
   "outputs": [
    {
     "name": "stdout",
     "output_type": "stream",
     "text": [
      "<class 'list'>\n",
      "<class 'numpy.ndarray'>\n"
     ]
    }
   ],
   "source": [
    "keypoints2, descriptors2 = compute_descriptors(orb, im2Gray)\n",
    "print(type(keypoints2))\n",
    "print(type(descriptors2))"
   ]
  },
  {
   "cell_type": "code",
   "execution_count": 52,
   "metadata": {},
   "outputs": [
    {
     "name": "stdout",
     "output_type": "stream",
     "text": [
      "<class 'list'>\n",
      "[<DMatch 00000259801D89B0>, <DMatch 00000259801D8A10>, <DMatch 00000259801D8AB0>, <DMatch 00000259801D86D0>, <DMatch 00000259801D8A50>, <DMatch 00000259801D8AD0>, <DMatch 00000259801D8A70>, <DMatch 00000259801D8A90>, <DMatch 00000259801D8AF0>, <DMatch 00000259801D8B10>, <DMatch 00000259801D8B30>, <DMatch 00000259801D8B50>, <DMatch 00000259801D8B70>, <DMatch 00000259801D8B90>, <DMatch 00000259801D8BB0>, <DMatch 00000259801D8BD0>, <DMatch 00000259801D8BF0>, <DMatch 00000259801D8C10>, <DMatch 00000259801D8C30>, <DMatch 00000259801D8C50>, <DMatch 00000259801D8C70>, <DMatch 00000259801D8C90>, <DMatch 00000259801D8CB0>, <DMatch 00000259801D8CD0>, <DMatch 00000259801D8CF0>, <DMatch 00000259801D8D10>, <DMatch 00000259801D8D30>, <DMatch 00000259801D8D50>, <DMatch 00000259801D8D70>, <DMatch 00000259801D8D90>, <DMatch 00000259801D8DB0>, <DMatch 00000259801D8DD0>, <DMatch 00000259801D8DF0>, <DMatch 00000259801D8E10>, <DMatch 00000259801D8E30>, <DMatch 00000259801D8E50>, <DMatch 00000259801D8E70>, <DMatch 00000259801D8E90>, <DMatch 00000259801D8EB0>, <DMatch 00000259801D8ED0>, <DMatch 00000259801D8EF0>, <DMatch 00000259801D8F10>, <DMatch 00000259801D8F30>, <DMatch 00000259801D8F50>, <DMatch 00000259801D8F70>, <DMatch 00000259801D8F90>, <DMatch 00000259801D8FB0>, <DMatch 00000259801D8FD0>, <DMatch 00000259801EC030>, <DMatch 00000259801EC050>, <DMatch 00000259801EC070>, <DMatch 00000259801EC090>, <DMatch 00000259801EC0B0>, <DMatch 00000259801EC0D0>, <DMatch 00000259801EC0F0>, <DMatch 00000259801EC110>, <DMatch 00000259801EC130>, <DMatch 00000259801EC150>, <DMatch 00000259801EC170>, <DMatch 00000259801EC190>, <DMatch 00000259801EC1B0>, <DMatch 00000259801EC1D0>, <DMatch 00000259801EC1F0>, <DMatch 00000259801EC210>, <DMatch 00000259801EC230>, <DMatch 00000259801EC250>, <DMatch 00000259801EC270>, <DMatch 00000259801EC290>, <DMatch 00000259801EC2B0>, <DMatch 00000259801EC2D0>, <DMatch 00000259801EC2F0>, <DMatch 00000259801EC310>, <DMatch 00000259801EC330>, <DMatch 00000259801EC350>, <DMatch 00000259801EC370>, <DMatch 00000259801EC390>, <DMatch 00000259801EC3B0>, <DMatch 00000259801EC3D0>, <DMatch 00000259801EC3F0>, <DMatch 00000259801EC410>, <DMatch 00000259801EC430>, <DMatch 00000259801EC450>, <DMatch 00000259801EC470>, <DMatch 00000259801EC490>, <DMatch 00000259801EC4B0>, <DMatch 00000259801EC4D0>, <DMatch 00000259801EC4F0>, <DMatch 00000259801EC510>, <DMatch 00000259801EC530>, <DMatch 00000259801EC550>, <DMatch 00000259801EC570>, <DMatch 00000259801EC590>, <DMatch 00000259801EC5B0>, <DMatch 00000259801EC5D0>, <DMatch 00000259801EC5F0>, <DMatch 00000259801EC610>, <DMatch 00000259801EC630>, <DMatch 00000259801EC650>, <DMatch 00000259801EC670>, <DMatch 00000259801EC690>, <DMatch 00000259801EC6B0>, <DMatch 00000259801EC6D0>, <DMatch 00000259801EC6F0>, <DMatch 00000259801EC710>, <DMatch 00000259801EC730>, <DMatch 00000259801EC750>, <DMatch 00000259801EC770>, <DMatch 00000259801EC790>, <DMatch 00000259801EC7B0>, <DMatch 00000259801EC7D0>, <DMatch 00000259801EC7F0>, <DMatch 00000259801EC810>, <DMatch 00000259801EC830>, <DMatch 00000259801EC850>, <DMatch 00000259801EC870>, <DMatch 00000259801EC890>, <DMatch 00000259801EC8B0>, <DMatch 00000259801EC8D0>, <DMatch 00000259801EC8F0>, <DMatch 00000259801EC910>, <DMatch 00000259801EC930>, <DMatch 00000259801EC950>, <DMatch 00000259801EC970>, <DMatch 00000259801EC990>, <DMatch 00000259801EC9B0>, <DMatch 00000259801EC9D0>, <DMatch 00000259801EC9F0>, <DMatch 00000259801ECA10>, <DMatch 00000259801ECA30>, <DMatch 00000259801ECA50>, <DMatch 00000259801ECA70>, <DMatch 00000259801ECA90>, <DMatch 00000259801ECAB0>, <DMatch 00000259801ECAD0>, <DMatch 00000259801ECAF0>, <DMatch 00000259801ECB10>, <DMatch 00000259801ECB30>, <DMatch 00000259801ECB50>, <DMatch 00000259801ECB70>, <DMatch 00000259801ECB90>, <DMatch 00000259801ECBB0>, <DMatch 00000259801ECBD0>, <DMatch 00000259801ECBF0>, <DMatch 00000259801ECC10>, <DMatch 00000259801ECC30>, <DMatch 00000259801ECC50>, <DMatch 00000259801ECC70>, <DMatch 00000259801ECC90>, <DMatch 00000259801ECCB0>, <DMatch 00000259801ECCD0>, <DMatch 00000259801ECCF0>, <DMatch 00000259801ECD10>, <DMatch 00000259801ECD30>, <DMatch 00000259801ECD50>, <DMatch 00000259801ECD70>, <DMatch 00000259801ECD90>, <DMatch 00000259801ECDB0>, <DMatch 00000259801ECDD0>, <DMatch 00000259801ECDF0>, <DMatch 00000259801ECE10>, <DMatch 00000259801ECE30>, <DMatch 00000259801ECE50>, <DMatch 00000259801ECE70>, <DMatch 00000259801ECE90>, <DMatch 00000259801ECEB0>, <DMatch 00000259801ECED0>, <DMatch 00000259801ECEF0>, <DMatch 00000259801ECF10>, <DMatch 00000259801ECF30>, <DMatch 00000259801ECF50>, <DMatch 00000259801ECF70>, <DMatch 00000259801ECF90>, <DMatch 00000259801ECFB0>, <DMatch 00000259801ECFD0>, <DMatch 00000259801ED030>, <DMatch 00000259801ED050>, <DMatch 00000259801ED070>, <DMatch 00000259801ED090>, <DMatch 00000259801ED0B0>, <DMatch 00000259801ED0D0>, <DMatch 00000259801ED0F0>, <DMatch 00000259801ED110>, <DMatch 00000259801ED130>, <DMatch 00000259801ED150>, <DMatch 00000259801ED170>, <DMatch 00000259801ED190>, <DMatch 00000259801ED1B0>, <DMatch 00000259801ED1D0>, <DMatch 00000259801ED1F0>, <DMatch 00000259801ED210>, <DMatch 00000259801ED230>, <DMatch 00000259801ED250>, <DMatch 00000259801ED270>, <DMatch 00000259801ED290>, <DMatch 00000259801ED2B0>, <DMatch 00000259801ED2D0>, <DMatch 00000259801ED2F0>, <DMatch 00000259801ED310>, <DMatch 00000259801ED330>, <DMatch 00000259801ED350>, <DMatch 00000259801ED370>, <DMatch 00000259801ED390>, <DMatch 00000259801ED3B0>, <DMatch 00000259801ED3D0>, <DMatch 00000259801ED3F0>, <DMatch 00000259801ED410>, <DMatch 00000259801ED430>, <DMatch 00000259801ED450>, <DMatch 00000259801ED470>, <DMatch 00000259801ED490>, <DMatch 00000259801ED4B0>, <DMatch 00000259801ED4D0>, <DMatch 00000259801ED4F0>, <DMatch 00000259801ED510>, <DMatch 00000259801ED530>, <DMatch 00000259801ED550>, <DMatch 00000259801ED570>, <DMatch 00000259801ED590>, <DMatch 00000259801ED5B0>, <DMatch 00000259801ED5D0>, <DMatch 00000259801ED5F0>, <DMatch 00000259801ED610>, <DMatch 00000259801ED630>, <DMatch 00000259801ED650>, <DMatch 00000259801ED670>, <DMatch 00000259801ED690>, <DMatch 00000259801ED6B0>, <DMatch 00000259801ED6D0>, <DMatch 00000259801ED6F0>, <DMatch 00000259801ED710>, <DMatch 00000259801ED730>, <DMatch 00000259801ED750>, <DMatch 00000259801ED770>, <DMatch 00000259801ED790>, <DMatch 00000259801ED7B0>, <DMatch 00000259801ED7D0>, <DMatch 00000259801ED7F0>, <DMatch 00000259801ED810>, <DMatch 00000259801ED830>, <DMatch 00000259801ED850>, <DMatch 00000259801ED870>, <DMatch 00000259801ED890>, <DMatch 00000259801ED8B0>, <DMatch 00000259801ED8D0>, <DMatch 00000259801ED8F0>, <DMatch 00000259801ED910>, <DMatch 00000259801ED930>, <DMatch 00000259801ED950>, <DMatch 00000259801ED970>, <DMatch 00000259801ED990>, <DMatch 00000259801ED9B0>, <DMatch 00000259801ED9D0>, <DMatch 00000259801ED9F0>, <DMatch 00000259801EDA10>, <DMatch 00000259801EDA30>, <DMatch 00000259801EDA50>, <DMatch 00000259801EDA70>, <DMatch 00000259801EDA90>, <DMatch 00000259801EDAB0>, <DMatch 00000259801EDAD0>, <DMatch 00000259801EDAF0>, <DMatch 00000259801EDB10>, <DMatch 00000259801EDB30>, <DMatch 00000259801EDB50>, <DMatch 00000259801EDB70>, <DMatch 00000259801EDB90>, <DMatch 00000259801EDBB0>, <DMatch 00000259801EDBD0>, <DMatch 00000259801EDBF0>, <DMatch 00000259801EDC10>, <DMatch 00000259801EDC30>, <DMatch 00000259801EDC50>, <DMatch 00000259801EDC70>, <DMatch 00000259801EDC90>, <DMatch 00000259801EDCB0>, <DMatch 00000259801EDCD0>, <DMatch 00000259801EDCF0>, <DMatch 00000259801EDD10>, <DMatch 00000259801EDD30>, <DMatch 00000259801EDD50>, <DMatch 00000259801EDD70>, <DMatch 00000259801EDD90>, <DMatch 00000259801EDDB0>, <DMatch 00000259801EDDD0>, <DMatch 00000259801EDDF0>, <DMatch 00000259801EDE10>, <DMatch 00000259801EDE30>, <DMatch 00000259801EDE50>, <DMatch 00000259801EDE70>, <DMatch 00000259801EDE90>, <DMatch 00000259801EDEB0>, <DMatch 00000259801EDED0>, <DMatch 00000259801EDEF0>, <DMatch 00000259801EDF10>, <DMatch 00000259801EDF30>, <DMatch 00000259801EDF50>, <DMatch 00000259801EDF70>, <DMatch 00000259801EDF90>, <DMatch 00000259801EDFB0>, <DMatch 00000259801EDFD0>, <DMatch 00000259801EE030>, <DMatch 00000259801EE050>, <DMatch 00000259801EE070>, <DMatch 00000259801EE090>, <DMatch 00000259801EE0B0>, <DMatch 00000259801EE0D0>, <DMatch 00000259801EE0F0>, <DMatch 00000259801EE110>, <DMatch 00000259801EE130>, <DMatch 00000259801EE150>, <DMatch 00000259801EE170>, <DMatch 00000259801EE190>, <DMatch 00000259801EE1B0>, <DMatch 00000259801EE1D0>, <DMatch 00000259801EE1F0>, <DMatch 00000259801EE210>, <DMatch 00000259801EE230>, <DMatch 00000259801EE250>, <DMatch 00000259801EE270>, <DMatch 00000259801EE290>, <DMatch 00000259801EE2B0>, <DMatch 00000259801EE2D0>, <DMatch 00000259801EE2F0>, <DMatch 00000259801EE310>, <DMatch 00000259801EE330>, <DMatch 00000259801EE350>, <DMatch 00000259801EE370>, <DMatch 00000259801EE390>, <DMatch 00000259801EE3B0>, <DMatch 00000259801EE3D0>, <DMatch 00000259801EE3F0>, <DMatch 00000259801EE410>, <DMatch 00000259801EE430>, <DMatch 00000259801EE450>, <DMatch 00000259801EE470>, <DMatch 00000259801EE490>, <DMatch 00000259801EE4B0>, <DMatch 00000259801EE4D0>, <DMatch 00000259801EE4F0>, <DMatch 00000259801EE510>, <DMatch 00000259801EE530>, <DMatch 00000259801EE550>, <DMatch 00000259801EE570>, <DMatch 00000259801EE590>, <DMatch 00000259801EE5B0>, <DMatch 00000259801EE5D0>, <DMatch 00000259801EE5F0>, <DMatch 00000259801EE610>, <DMatch 00000259801EE630>, <DMatch 00000259801EE650>, <DMatch 00000259801EE670>, <DMatch 00000259801EE690>, <DMatch 00000259801EE6B0>, <DMatch 00000259801EE6D0>, <DMatch 00000259801EE6F0>, <DMatch 00000259801EE710>, <DMatch 00000259801EE730>, <DMatch 00000259801EE750>, <DMatch 00000259801EE770>, <DMatch 00000259801EE790>, <DMatch 00000259801EE7B0>, <DMatch 00000259801EE7D0>, <DMatch 00000259801EE7F0>, <DMatch 00000259801EE810>, <DMatch 00000259801EE830>, <DMatch 00000259801EE850>, <DMatch 00000259801EE870>, <DMatch 00000259801EE890>, <DMatch 00000259801EE8B0>, <DMatch 00000259801EE8D0>, <DMatch 00000259801EE8F0>, <DMatch 00000259801EE910>, <DMatch 00000259801EE930>, <DMatch 00000259801EE950>, <DMatch 00000259801EE970>, <DMatch 00000259801EE990>, <DMatch 00000259801EE9B0>, <DMatch 00000259801EE9D0>, <DMatch 00000259801EE9F0>, <DMatch 00000259801EEA10>, <DMatch 00000259801EEA30>, <DMatch 00000259801EEA50>, <DMatch 00000259801EEA70>, <DMatch 00000259801EEA90>, <DMatch 00000259801EEAB0>, <DMatch 00000259801EEAD0>, <DMatch 00000259801EEAF0>, <DMatch 00000259801EEB10>, <DMatch 00000259801EEB30>, <DMatch 00000259801EEB50>, <DMatch 00000259801EEB70>, <DMatch 00000259801EEB90>, <DMatch 00000259801EEBB0>, <DMatch 00000259801EEBD0>, <DMatch 00000259801EEBF0>, <DMatch 00000259801EEC10>, <DMatch 00000259801EEC30>, <DMatch 00000259801EEC50>, <DMatch 00000259801EEC70>, <DMatch 00000259801EEC90>, <DMatch 00000259801EECB0>, <DMatch 00000259801EECD0>, <DMatch 00000259801EECF0>, <DMatch 00000259801EED10>, <DMatch 00000259801EED30>, <DMatch 00000259801EED50>, <DMatch 00000259801EED70>, <DMatch 00000259801EED90>, <DMatch 00000259801EEDB0>, <DMatch 00000259801EEDD0>, <DMatch 00000259801EEDF0>, <DMatch 00000259801EEE10>, <DMatch 00000259801EEE30>, <DMatch 00000259801EEE50>, <DMatch 00000259801EEE70>, <DMatch 00000259801EEE90>, <DMatch 00000259801EEEB0>, <DMatch 00000259801EEED0>, <DMatch 00000259801EEEF0>, <DMatch 00000259801EEF10>, <DMatch 00000259801EEF30>, <DMatch 00000259801EEF50>, <DMatch 00000259801EEF70>, <DMatch 00000259801EEF90>, <DMatch 00000259801EEFB0>, <DMatch 00000259801EEFD0>, <DMatch 00000259801EF030>, <DMatch 00000259801EF050>, <DMatch 00000259801EF070>, <DMatch 00000259801EF090>, <DMatch 00000259801EF0B0>, <DMatch 00000259801EF0D0>, <DMatch 00000259801EF0F0>, <DMatch 00000259801EF110>, <DMatch 00000259801EF130>, <DMatch 00000259801EF150>, <DMatch 00000259801EF170>, <DMatch 00000259801EF190>, <DMatch 00000259801EF1B0>, <DMatch 00000259801EF1D0>, <DMatch 00000259801EF1F0>, <DMatch 00000259801EF210>, <DMatch 00000259801EF230>, <DMatch 00000259801EF250>, <DMatch 00000259801EF270>, <DMatch 00000259801EF290>, <DMatch 00000259801EF2B0>, <DMatch 00000259801EF2D0>, <DMatch 00000259801EF2F0>, <DMatch 00000259801EF310>, <DMatch 00000259801EF330>, <DMatch 00000259801EF350>, <DMatch 00000259801EF370>, <DMatch 00000259801EF390>, <DMatch 00000259801EF3B0>, <DMatch 00000259801EF3D0>, <DMatch 00000259801EF3F0>, <DMatch 00000259801EF410>, <DMatch 00000259801EF430>, <DMatch 00000259801EF450>, <DMatch 00000259801EF470>, <DMatch 00000259801EF490>, <DMatch 00000259801EF4B0>, <DMatch 00000259801EF4D0>, <DMatch 00000259801EF4F0>, <DMatch 00000259801EF510>, <DMatch 00000259801EF530>, <DMatch 00000259801EF550>, <DMatch 00000259801EF570>, <DMatch 00000259801EF590>, <DMatch 00000259801EF5B0>, <DMatch 00000259801EF5D0>, <DMatch 00000259801EF5F0>, <DMatch 00000259801EF610>, <DMatch 00000259801EF630>, <DMatch 00000259801EF650>, <DMatch 00000259801EF670>, <DMatch 00000259801EF690>, <DMatch 00000259801EF6B0>, <DMatch 00000259801EF6D0>, <DMatch 00000259801EF6F0>, <DMatch 00000259801EF710>, <DMatch 00000259801EF730>, <DMatch 00000259801EF750>, <DMatch 00000259801EF770>, <DMatch 00000259801EF790>, <DMatch 00000259801EF7B0>, <DMatch 00000259801EF7D0>, <DMatch 00000259801EF7F0>, <DMatch 00000259801EF810>, <DMatch 00000259801EF830>, <DMatch 00000259801EF850>, <DMatch 00000259801EF870>, <DMatch 00000259801EF890>, <DMatch 00000259801EF8B0>, <DMatch 00000259801EF8D0>, <DMatch 00000259801EF8F0>, <DMatch 00000259801EF910>, <DMatch 00000259801EF930>, <DMatch 00000259801EF950>]\n"
     ]
    }
   ],
   "source": [
    "matches = match_features(descriptors1, descriptors2)\n",
    "print(type(matches))\n",
    "print(matches)"
   ]
  },
  {
   "cell_type": "code",
   "execution_count": 53,
   "metadata": {},
   "outputs": [
    {
     "name": "stdout",
     "output_type": "stream",
     "text": [
      "<class 'list'>\n",
      "[<DMatch 00000259801D8FD0>, <DMatch 00000259801ED570>, <DMatch 00000259801ECFD0>, <DMatch 00000259801ED610>, <DMatch 00000259801EDC90>, <DMatch 00000259801EDFB0>, <DMatch 00000259801EE850>, <DMatch 00000259801EE930>, <DMatch 00000259801ED7F0>, <DMatch 00000259801ED9F0>, <DMatch 00000259801D8AD0>, <DMatch 00000259801EC2B0>, <DMatch 00000259801EC510>, <DMatch 00000259801EC9D0>, <DMatch 00000259801ED4D0>, <DMatch 00000259801EDCF0>, <DMatch 00000259801EDDF0>, <DMatch 00000259801ED430>, <DMatch 00000259801ED9B0>, <DMatch 00000259801EDA70>, <DMatch 00000259801EC090>, <DMatch 00000259801ED390>, <DMatch 00000259801EDD70>, <DMatch 00000259801EC7B0>, <DMatch 00000259801ED050>, <DMatch 00000259801ED8D0>, <DMatch 00000259801EE4D0>, <DMatch 00000259801EC2F0>, <DMatch 00000259801EC6B0>, <DMatch 00000259801EEC10>, <DMatch 00000259801ED890>, <DMatch 00000259801EE670>, <DMatch 00000259801ED450>, <DMatch 00000259801EEF70>, <DMatch 00000259801EDF30>, <DMatch 00000259801EED50>, <DMatch 00000259801EC070>, <DMatch 00000259801EC6F0>, <DMatch 00000259801ED3F0>, <DMatch 00000259801EF170>, <DMatch 00000259801EC250>, <DMatch 00000259801EC650>, <DMatch 00000259801ECEF0>, <DMatch 00000259801EE810>, <DMatch 00000259801EC0D0>, <DMatch 00000259801EDD10>, <DMatch 00000259801EE030>, <DMatch 00000259801EE970>, <DMatch 00000259801D8AF0>, <DMatch 00000259801D8CF0>, <DMatch 00000259801D8D10>, <DMatch 00000259801EE2B0>, <DMatch 00000259801EC0B0>, <DMatch 00000259801ECAF0>, <DMatch 00000259801ECAB0>, <DMatch 00000259801ED370>, <DMatch 00000259801EF830>, <DMatch 00000259801EDFD0>, <DMatch 00000259801EE130>, <DMatch 00000259801D8BD0>, <DMatch 00000259801EE710>, <DMatch 00000259801EEB50>, <DMatch 00000259801EC4D0>, <DMatch 00000259801ECE10>, <DMatch 00000259801ECF70>, <DMatch 00000259801EE350>, <DMatch 00000259801EF370>, <DMatch 00000259801D8B10>, <DMatch 00000259801EC5B0>, <DMatch 00000259801ECB10>, <DMatch 00000259801ECBB0>, <DMatch 00000259801ECBF0>, <DMatch 00000259801ED110>, <DMatch 00000259801EE9B0>, <DMatch 00000259801EC8F0>, <DMatch 00000259801EE8D0>, <DMatch 00000259801D8B30>, <DMatch 00000259801ECA90>, <DMatch 00000259801ECD70>, <DMatch 00000259801EDAF0>, <DMatch 00000259801EDD30>, <DMatch 00000259801EE270>, <DMatch 00000259801EE8B0>, <DMatch 00000259801EF070>, <DMatch 00000259801EF1B0>, <DMatch 00000259801EC370>, <DMatch 00000259801EDED0>, <DMatch 00000259801EF1F0>, <DMatch 00000259801EF270>, <DMatch 00000259801ED170>, <DMatch 00000259801ED7B0>, <DMatch 00000259801ED8F0>, <DMatch 00000259801EDC50>, <DMatch 00000259801EEBD0>, <DMatch 00000259801D8A90>, <DMatch 00000259801D8DD0>, <DMatch 00000259801D8E90>, <DMatch 00000259801D8EB0>, <DMatch 00000259801EE070>, <DMatch 00000259801EE390>, <DMatch 00000259801EF110>, <DMatch 00000259801EF230>, <DMatch 00000259801EF450>, <DMatch 00000259801EF690>, <DMatch 00000259801D8DB0>, <DMatch 00000259801EC450>, <DMatch 00000259801EC950>, <DMatch 00000259801ECB30>, <DMatch 00000259801EDC70>, <DMatch 00000259801EDF90>, <DMatch 00000259801EEFD0>, <DMatch 00000259801D8C30>, <DMatch 00000259801EC410>, <DMatch 00000259801ED770>, <DMatch 00000259801EE1F0>, <DMatch 00000259801EE6B0>, <DMatch 00000259801EEEF0>, <DMatch 00000259801EF1D0>, <DMatch 00000259801EC310>, <DMatch 00000259801ED4F0>, <DMatch 00000259801EE9F0>, <DMatch 00000259801EF3F0>, <DMatch 00000259801ED0D0>, <DMatch 00000259801ED6B0>, <DMatch 00000259801ED730>, <DMatch 00000259801ED850>, <DMatch 00000259801EDA30>, <DMatch 00000259801EDB90>, <DMatch 00000259801EE3F0>, <DMatch 00000259801EEF50>, <DMatch 00000259801EF6D0>, <DMatch 00000259801EC870>, <DMatch 00000259801EC8D0>, <DMatch 00000259801ED4B0>, <DMatch 00000259801EDA50>, <DMatch 00000259801EE0B0>, <DMatch 00000259801EEA90>, <DMatch 00000259801EED30>, <DMatch 00000259801D8BF0>, <DMatch 00000259801EC610>, <DMatch 00000259801EC6D0>, <DMatch 00000259801EE210>, <DMatch 00000259801EEA10>, <DMatch 00000259801EEB90>, <DMatch 00000259801EF250>, <DMatch 00000259801EF910>, <DMatch 00000259801D8E70>, <DMatch 00000259801EC0F0>, <DMatch 00000259801EC110>, <DMatch 00000259801EC1F0>, <DMatch 00000259801ED350>, <DMatch 00000259801ED990>, <DMatch 00000259801EDB50>, <DMatch 00000259801EE110>, <DMatch 00000259801EF6F0>, <DMatch 00000259801EF890>, <DMatch 00000259801D8ED0>, <DMatch 00000259801EC050>, <DMatch 00000259801EC270>, <DMatch 00000259801EC330>, <DMatch 00000259801ED290>, <DMatch 00000259801EDAD0>, <DMatch 00000259801EDDD0>, <DMatch 00000259801EE4B0>, <DMatch 00000259801EE5F0>, <DMatch 00000259801EE7D0>, <DMatch 00000259801EF090>, <DMatch 00000259801EF570>, <DMatch 00000259801EF590>, <DMatch 00000259801EF8D0>, <DMatch 00000259801D8CD0>, <DMatch 00000259801D8F30>, <DMatch 00000259801EC3B0>, <DMatch 00000259801EC810>, <DMatch 00000259801ECE50>, <DMatch 00000259801ED5B0>, <DMatch 00000259801EE050>, <DMatch 00000259801EE430>, <DMatch 00000259801EE450>, <DMatch 00000259801EE530>, <DMatch 00000259801EF3B0>, <DMatch 00000259801EF5F0>, <DMatch 00000259801D8DF0>, <DMatch 00000259801EC230>, <DMatch 00000259801EC750>, <DMatch 00000259801ECA70>, <DMatch 00000259801ECC70>, <DMatch 00000259801ED970>, <DMatch 00000259801EF050>, <DMatch 00000259801EF290>, <DMatch 00000259801EF310>, <DMatch 00000259801EF770>, <DMatch 00000259801EF7B0>, <DMatch 00000259801EF950>, <DMatch 00000259801D8C10>, <DMatch 00000259801D8D50>, <DMatch 00000259801EC030>, <DMatch 00000259801EC3F0>, <DMatch 00000259801ECB70>, <DMatch 00000259801ECC30>, <DMatch 00000259801ECD50>, <DMatch 00000259801ECD90>, <DMatch 00000259801ED1B0>, <DMatch 00000259801ED690>, <DMatch 00000259801ED950>, <DMatch 00000259801EDF10>, <DMatch 00000259801EE770>, <DMatch 00000259801EECB0>, <DMatch 00000259801EF530>, <DMatch 00000259801EF5B0>, <DMatch 00000259801EF730>, <DMatch 00000259801EF810>, <DMatch 00000259801D8A50>, <DMatch 00000259801EC1B0>, <DMatch 00000259801EC390>, <DMatch 00000259801EC530>, <DMatch 00000259801EC7F0>, <DMatch 00000259801EC930>, <DMatch 00000259801ECB50>, <DMatch 00000259801ECDD0>, <DMatch 00000259801ED230>, <DMatch 00000259801ED830>, <DMatch 00000259801EDBD0>, <DMatch 00000259801EDE30>, <DMatch 00000259801EE5D0>, <DMatch 00000259801EEC30>, <DMatch 00000259801EEE10>, <DMatch 00000259801EF4B0>, <DMatch 00000259801D8F70>, <DMatch 00000259801EC1D0>, <DMatch 00000259801EC550>, <DMatch 00000259801EC730>, <DMatch 00000259801EC770>, <DMatch 00000259801ECBD0>, <DMatch 00000259801ECC50>, <DMatch 00000259801ECD30>, <DMatch 00000259801ECE70>, <DMatch 00000259801ED310>, <DMatch 00000259801EE630>, <DMatch 00000259801EE7F0>, <DMatch 00000259801EF710>, <DMatch 00000259801EF8F0>, <DMatch 00000259801D8FB0>, <DMatch 00000259801EC670>, <DMatch 00000259801EC790>, <DMatch 00000259801ECC10>, <DMatch 00000259801ED0B0>, <DMatch 00000259801ED2F0>, <DMatch 00000259801ED6F0>, <DMatch 00000259801EDE10>, <DMatch 00000259801EDF50>, <DMatch 00000259801EE570>, <DMatch 00000259801EED90>, <DMatch 00000259801EEF10>, <DMatch 00000259801EF6B0>, <DMatch 00000259801EF750>, <DMatch 00000259801D8AB0>, <DMatch 00000259801D8F90>, <DMatch 00000259801EC290>, <DMatch 00000259801EC850>, <DMatch 00000259801ECA30>, <DMatch 00000259801ECB90>, <DMatch 00000259801ED130>, <DMatch 00000259801ED490>, <DMatch 00000259801EE090>, <DMatch 00000259801EE4F0>, <DMatch 00000259801EE510>, <DMatch 00000259801EE8F0>, <DMatch 00000259801EEB30>, <DMatch 00000259801EEBB0>, <DMatch 00000259801EEBF0>, <DMatch 00000259801EEC90>, <DMatch 00000259801EEDB0>, <DMatch 00000259801EF7D0>, <DMatch 00000259801D8D30>, <DMatch 00000259801ECCB0>, <DMatch 00000259801ED3B0>, <DMatch 00000259801ED470>, <DMatch 00000259801ED8B0>, <DMatch 00000259801ED910>, <DMatch 00000259801EDB30>, <DMatch 00000259801EDB70>, <DMatch 00000259801EE2F0>, <DMatch 00000259801EE3B0>, <DMatch 00000259801EE3D0>, <DMatch 00000259801EE610>, <DMatch 00000259801EEE70>, <DMatch 00000259801EF930>, <DMatch 00000259801D8D90>, <DMatch 00000259801D8E50>, <DMatch 00000259801EC4B0>, <DMatch 00000259801EC7D0>, <DMatch 00000259801ECCF0>, <DMatch 00000259801ECE90>, <DMatch 00000259801ECF30>, <DMatch 00000259801ED1D0>, <DMatch 00000259801ED270>, <DMatch 00000259801ED410>, <DMatch 00000259801ED510>, <DMatch 00000259801ED790>, <DMatch 00000259801ED9D0>, <DMatch 00000259801EE0D0>, <DMatch 00000259801EEAF0>, <DMatch 00000259801EEB70>, <DMatch 00000259801EF030>, <DMatch 00000259801EF8B0>, <DMatch 00000259801D86D0>, <DMatch 00000259801D8EF0>, <DMatch 00000259801EC350>, <DMatch 00000259801EC490>, <DMatch 00000259801EC5D0>, <DMatch 00000259801EC890>, <DMatch 00000259801ECED0>, <DMatch 00000259801EE0F0>, <DMatch 00000259801EE170>, <DMatch 00000259801EE230>, <DMatch 00000259801EEEB0>, <DMatch 00000259801EF130>, <DMatch 00000259801EF390>, <DMatch 00000259801EF490>, <DMatch 00000259801D89B0>, <DMatch 00000259801D8A70>, <DMatch 00000259801D8C50>, <DMatch 00000259801EC210>, <DMatch 00000259801ECA50>, <DMatch 00000259801ECDF0>, <DMatch 00000259801ECE30>, <DMatch 00000259801ED1F0>, <DMatch 00000259801ED210>, <DMatch 00000259801ED810>, <DMatch 00000259801EDA10>, <DMatch 00000259801EDB10>, <DMatch 00000259801EE150>, <DMatch 00000259801EE650>, <DMatch 00000259801EE750>, <DMatch 00000259801EEE50>, <DMatch 00000259801EF150>, <DMatch 00000259801EF4D0>, <DMatch 00000259801D8A10>, <DMatch 00000259801D8B50>, <DMatch 00000259801D8B70>, <DMatch 00000259801D8E30>, <DMatch 00000259801ECDB0>, <DMatch 00000259801ED090>, <DMatch 00000259801ED150>, <DMatch 00000259801ED870>, <DMatch 00000259801EE1D0>, <DMatch 00000259801EE310>, <DMatch 00000259801EE470>, <DMatch 00000259801EE550>, <DMatch 00000259801EE590>, <DMatch 00000259801EE690>, <DMatch 00000259801EE990>, <DMatch 00000259801EEAB0>, <DMatch 00000259801EEDF0>, <DMatch 00000259801EF0F0>, <DMatch 00000259801EF190>, <DMatch 00000259801EF330>, <DMatch 00000259801EF3D0>, <DMatch 00000259801EF470>, <DMatch 00000259801EF4F0>, <DMatch 00000259801EF510>, <DMatch 00000259801D8C70>, <DMatch 00000259801EC570>, <DMatch 00000259801EC830>, <DMatch 00000259801ED070>, <DMatch 00000259801EDA90>, <DMatch 00000259801EDC30>, <DMatch 00000259801EE330>, <DMatch 00000259801EE7B0>, <DMatch 00000259801EE890>, <DMatch 00000259801EED70>, <DMatch 00000259801EF630>, <DMatch 00000259801EF670>, <DMatch 00000259801D8BB0>, <DMatch 00000259801EC130>, <DMatch 00000259801EC470>, <DMatch 00000259801EC9B0>, <DMatch 00000259801ECEB0>, <DMatch 00000259801ECF10>, <DMatch 00000259801ECF50>, <DMatch 00000259801ED030>, <DMatch 00000259801ED190>, <DMatch 00000259801ED5F0>, <DMatch 00000259801ED930>, <DMatch 00000259801EDBF0>, <DMatch 00000259801EDEF0>, <DMatch 00000259801EDF70>, <DMatch 00000259801EE730>, <DMatch 00000259801EE910>, <DMatch 00000259801EE950>, <DMatch 00000259801EEA30>, <DMatch 00000259801EEB10>, <DMatch 00000259801EEDD0>, <DMatch 00000259801EF430>, <DMatch 00000259801EC190>, <DMatch 00000259801EC430>, <DMatch 00000259801EC4F0>, <DMatch 00000259801EC910>, <DMatch 00000259801EDE70>, <DMatch 00000259801EE2D0>, <DMatch 00000259801EE370>, <DMatch 00000259801EE830>, <DMatch 00000259801EEA70>, <DMatch 00000259801EF210>, <DMatch 00000259801EF2F0>, <DMatch 00000259801EF850>, <DMatch 00000259801D8F10>, <DMatch 00000259801EC590>, <DMatch 00000259801EDDB0>, <DMatch 00000259801EDE90>, <DMatch 00000259801EE410>, <DMatch 00000259801EE490>, <DMatch 00000259801EE790>, <DMatch 00000259801EEC70>, <DMatch 00000259801EECD0>, <DMatch 00000259801D8CB0>, <DMatch 00000259801EC990>, <DMatch 00000259801ED590>, <DMatch 00000259801ED750>, <DMatch 00000259801EDC10>, <DMatch 00000259801EDD90>, <DMatch 00000259801EE190>, <DMatch 00000259801EE6F0>, <DMatch 00000259801EE870>, <DMatch 00000259801EEE30>, <DMatch 00000259801EEFB0>, <DMatch 00000259801D8C90>, <DMatch 00000259801ED250>, <DMatch 00000259801ED2B0>, <DMatch 00000259801ED330>, <DMatch 00000259801ED6D0>, <DMatch 00000259801ED710>, <DMatch 00000259801EDBB0>, <DMatch 00000259801EDE50>, <DMatch 00000259801EED10>, <DMatch 00000259801EEED0>, <DMatch 00000259801EF2D0>, <DMatch 00000259801EF350>, <DMatch 00000259801D8B90>, <DMatch 00000259801D8D70>, <DMatch 00000259801D8F50>, <DMatch 00000259801ED530>, <DMatch 00000259801ED7D0>, <DMatch 00000259801EDAB0>, <DMatch 00000259801EE5B0>, <DMatch 00000259801EE6D0>, <DMatch 00000259801EF5D0>, <DMatch 00000259801EF870>, <DMatch 00000259801ED5D0>, <DMatch 00000259801EDCD0>, <DMatch 00000259801EDEB0>, <DMatch 00000259801EEC50>, <DMatch 00000259801EF0B0>, <DMatch 00000259801EF0D0>, <DMatch 00000259801EF2B0>, <DMatch 00000259801EF650>, <DMatch 00000259801EC8B0>, <DMatch 00000259801EC970>, <DMatch 00000259801ECF90>, <DMatch 00000259801ED650>, <DMatch 00000259801ED670>, <DMatch 00000259801EDCB0>, <DMatch 00000259801EE9D0>, <DMatch 00000259801EF410>, <DMatch 00000259801EF610>, <DMatch 00000259801EF790>, <DMatch 00000259801EF7F0>, <DMatch 00000259801EC2D0>, <DMatch 00000259801EC5F0>, <DMatch 00000259801ECA10>, <DMatch 00000259801ECC90>, <DMatch 00000259801ECD10>, <DMatch 00000259801ECFB0>, <DMatch 00000259801EE250>, <DMatch 00000259801EECF0>, <DMatch 00000259801EEF30>, <DMatch 00000259801EC3D0>, <DMatch 00000259801EC9F0>, <DMatch 00000259801EEE90>, <DMatch 00000259801ECAD0>, <DMatch 00000259801ECCD0>, <DMatch 00000259801ED3D0>, <DMatch 00000259801EE1B0>, <DMatch 00000259801EEA50>, <DMatch 00000259801EEAD0>, <DMatch 00000259801EF550>, <DMatch 00000259801D8E10>, <DMatch 00000259801EC150>, <DMatch 00000259801EC710>, <DMatch 00000259801EC630>, <DMatch 00000259801ED630>, <DMatch 00000259801EEF90>, <DMatch 00000259801ED550>, <DMatch 00000259801EDD50>, <DMatch 00000259801EE290>, <DMatch 00000259801EC170>, <DMatch 00000259801ED0F0>, <DMatch 00000259801EC690>, <DMatch 00000259801ED2D0>]\n"
     ]
    }
   ],
   "source": [
    "matches1 = sort_matches_by_score(matches)\n",
    "print(type(matches1))\n",
    "print(matches1)"
   ]
  },
  {
   "cell_type": "code",
   "execution_count": 57,
   "metadata": {},
   "outputs": [
    {
     "name": "stdout",
     "output_type": "stream",
     "text": [
      "<class 'list'>\n",
      "[<DMatch 00000259801D8FD0>, <DMatch 00000259801ED570>, <DMatch 00000259801ECFD0>, <DMatch 00000259801ED610>, <DMatch 00000259801EDC90>, <DMatch 00000259801EDFB0>, <DMatch 00000259801EE850>, <DMatch 00000259801EE930>, <DMatch 00000259801ED7F0>, <DMatch 00000259801ED9F0>, <DMatch 00000259801D8AD0>, <DMatch 00000259801EC2B0>, <DMatch 00000259801EC510>, <DMatch 00000259801EC9D0>, <DMatch 00000259801ED4D0>, <DMatch 00000259801EDCF0>, <DMatch 00000259801EDDF0>, <DMatch 00000259801ED430>, <DMatch 00000259801ED9B0>, <DMatch 00000259801EDA70>, <DMatch 00000259801EC090>, <DMatch 00000259801ED390>, <DMatch 00000259801EDD70>, <DMatch 00000259801EC7B0>, <DMatch 00000259801ED050>, <DMatch 00000259801ED8D0>, <DMatch 00000259801EE4D0>, <DMatch 00000259801EC2F0>, <DMatch 00000259801EC6B0>, <DMatch 00000259801EEC10>, <DMatch 00000259801ED890>, <DMatch 00000259801EE670>, <DMatch 00000259801ED450>, <DMatch 00000259801EEF70>, <DMatch 00000259801EDF30>, <DMatch 00000259801EED50>, <DMatch 00000259801EC070>, <DMatch 00000259801EC6F0>, <DMatch 00000259801ED3F0>, <DMatch 00000259801EF170>, <DMatch 00000259801EC250>, <DMatch 00000259801EC650>, <DMatch 00000259801ECEF0>, <DMatch 00000259801EE810>, <DMatch 00000259801EC0D0>, <DMatch 00000259801EDD10>, <DMatch 00000259801EE030>, <DMatch 00000259801EE970>, <DMatch 00000259801D8AF0>, <DMatch 00000259801D8CF0>, <DMatch 00000259801D8D10>, <DMatch 00000259801EE2B0>, <DMatch 00000259801EC0B0>, <DMatch 00000259801ECAF0>, <DMatch 00000259801ECAB0>, <DMatch 00000259801ED370>, <DMatch 00000259801EF830>, <DMatch 00000259801EDFD0>, <DMatch 00000259801EE130>, <DMatch 00000259801D8BD0>, <DMatch 00000259801EE710>, <DMatch 00000259801EEB50>, <DMatch 00000259801EC4D0>, <DMatch 00000259801ECE10>, <DMatch 00000259801ECF70>, <DMatch 00000259801EE350>, <DMatch 00000259801EF370>, <DMatch 00000259801D8B10>, <DMatch 00000259801EC5B0>, <DMatch 00000259801ECB10>, <DMatch 00000259801ECBB0>, <DMatch 00000259801ECBF0>, <DMatch 00000259801ED110>, <DMatch 00000259801EE9B0>, <DMatch 00000259801EC8F0>]\n"
     ]
    }
   ],
   "source": [
    "matches_good = remove_bad_matches(matches1,GOOD_MATCH_PERCENT)\n",
    "print(type(matches_good))\n",
    "print(matches_good)"
   ]
  },
  {
   "cell_type": "code",
   "execution_count": 58,
   "metadata": {},
   "outputs": [
    {
     "name": "stdout",
     "output_type": "stream",
     "text": [
      "done drawing top matches\n"
     ]
    }
   ],
   "source": [
    "draw_top_matches(im, keypoints1, imReference, keypoints2, matches_good)"
   ]
  },
  {
   "cell_type": "code",
   "execution_count": 72,
   "metadata": {},
   "outputs": [],
   "source": [
    "points1, points2 = extract_good_matches_loc(matches_good, keypoints1, keypoints2)"
   ]
  },
  {
   "cell_type": "code",
   "execution_count": 61,
   "metadata": {},
   "outputs": [
    {
     "name": "stdout",
     "output_type": "stream",
     "text": [
      "<class 'numpy.ndarray'>\n"
     ]
    }
   ],
   "source": [
    "print(type(points2))"
   ]
  },
  {
   "cell_type": "code",
   "execution_count": 63,
   "metadata": {
    "collapsed": true
   },
   "outputs": [],
   "source": [
    "h, mask = find_homography(points1, points2)"
   ]
  },
  {
   "cell_type": "code",
   "execution_count": 64,
   "metadata": {},
   "outputs": [
    {
     "name": "stdout",
     "output_type": "stream",
     "text": [
      "<class 'numpy.ndarray'>\n",
      "<class 'numpy.ndarray'>\n"
     ]
    }
   ],
   "source": [
    "print(type(h))\n",
    "print(type(mask))"
   ]
  },
  {
   "cell_type": "code",
   "execution_count": 65,
   "metadata": {
    "collapsed": true
   },
   "outputs": [],
   "source": [
    "im1Reg = use_homography(im, imReference)"
   ]
  },
  {
   "cell_type": "code",
   "execution_count": 66,
   "metadata": {},
   "outputs": [
    {
     "name": "stdout",
     "output_type": "stream",
     "text": [
      "<class 'numpy.ndarray'>\n"
     ]
    }
   ],
   "source": [
    "print(type(im1Reg))"
   ]
  },
  {
   "cell_type": "code",
   "execution_count": 68,
   "metadata": {},
   "outputs": [
    {
     "name": "stdout",
     "output_type": "stream",
     "text": [
      "Saving aligned image :  C:/Users/incha/PycharmProjects/ImageAlignment/aligned.jpg\n"
     ]
    }
   ],
   "source": [
    "outFilepath_name = \"C:/Users/incha/PycharmProjects/ImageAlignment/aligned.jpg\"\n",
    "save_aligned_img(im1Reg, outFilepath_name)"
   ]
  },
  {
   "cell_type": "code",
   "execution_count": 69,
   "metadata": {},
   "outputs": [
    {
     "name": "stdout",
     "output_type": "stream",
     "text": [
      "[[  1.40104964e+00  -2.02959669e-01  -7.41342584e+00]\n",
      " [  2.25280216e-01   1.52880342e+00  -4.85162159e+02]\n",
      " [ -6.39599712e-05   1.34896590e-04   1.00000000e+00]]\n"
     ]
    }
   ],
   "source": [
    "print(h)"
   ]
  },
  {
   "cell_type": "code",
   "execution_count": null,
   "metadata": {
    "collapsed": true
   },
   "outputs": [],
   "source": []
  }
 ],
 "metadata": {
  "kernelspec": {
   "display_name": "Python 3",
   "language": "python",
   "name": "python3"
  },
  "language_info": {
   "codemirror_mode": {
    "name": "ipython",
    "version": 3
   },
   "file_extension": ".py",
   "mimetype": "text/x-python",
   "name": "python",
   "nbconvert_exporter": "python",
   "pygments_lexer": "ipython3",
   "version": "3.6.3"
  }
 },
 "nbformat": 4,
 "nbformat_minor": 2
}
